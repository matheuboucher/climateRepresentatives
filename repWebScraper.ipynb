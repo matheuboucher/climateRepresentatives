{
 "cells": [
  {
   "cell_type": "code",
   "execution_count": 19,
   "metadata": {},
   "outputs": [],
   "source": [
    "import pandas as pd\n",
    "import numpy as np\n",
    "import requests\n",
    "import json\n",
    "import pprint\n",
    "from bs4 import BeautifulSoup"
   ]
  },
  {
   "cell_type": "code",
   "execution_count": 20,
   "metadata": {},
   "outputs": [
    {
     "data": {
      "text/plain": [
       "<Response [200]>"
      ]
     },
     "execution_count": 20,
     "metadata": {},
     "output_type": "execute_result"
    }
   ],
   "source": [
    "url = 'https://www.house.gov/representatives'\n",
    "page = requests.get(url)\n",
    "soup = BeautifulSoup(page.content, 'html.parser')\n",
    "\n",
    "page"
   ]
  },
  {
   "cell_type": "code",
   "execution_count": 21,
   "metadata": {},
   "outputs": [
    {
     "data": {
      "text/plain": [
       "bs4.element.ResultSet"
      ]
     },
     "execution_count": 21,
     "metadata": {},
     "output_type": "execute_result"
    }
   ],
   "source": [
    "ee = soup.find_all('table')\n",
    "type(ee)"
   ]
  },
  {
   "cell_type": "code",
   "execution_count": 42,
   "metadata": {},
   "outputs": [],
   "source": [
    "# define a representative class that keeps track of representatives scraped\n",
    "# from state and federal websites\n",
    "# To-Do: \n",
    "class Representative:\n",
    "    def __init__(self, name, level, state, committees):\n",
    "        self.n = name\n",
    "        self.l = level\n",
    "        self.s = state\n",
    "        self.c = committees\n",
    "\n",
    "    def f(self):\n",
    "        return 'hello world'\n",
    "\n",
    "# testing\n",
    "rp = Representative('Al', 'Federal', 'Alabama', ['Climate', 'Space'])\n",
    "dg = Representative('Al', 'Federal', 'Alabama', 10)\n"
   ]
  },
  {
   "cell_type": "code",
   "execution_count": 45,
   "metadata": {},
   "outputs": [
    {
     "name": "stdout",
     "output_type": "stream",
     "text": [
      "['Climate', 'Space']\n",
      "10\n"
     ]
    },
    {
     "data": {
      "text/plain": [
       "['Climate', 'Space']"
      ]
     },
     "execution_count": 45,
     "metadata": {},
     "output_type": "execute_result"
    }
   ],
   "source": [
    "print(rp.c)\n",
    "print(dg.c)"
   ]
  },
  {
   "cell_type": "code",
   "execution_count": 22,
   "metadata": {},
   "outputs": [],
   "source": [
    "# fill reps dict with information\n",
    "# to-do: generalize for different state, federal websites, make dict value a\n",
    "# a list/tuple with committee name and state\n",
    "repName_class = ['views-field', 'views-field-value-4', 'views-field-value-5']\n",
    "committee_class = ['views-field', 'views-field-markup']\n",
    "\n",
    "reps = {}\n",
    "for table in soup.find_all('table'):\n",
    "    id = table.get('id')\n",
    "    if 'state' in id:\n",
    "        caption = table.find('caption')\n",
    "        realCaption = caption.get_text().strip()\n",
    "        for tr in table.find('tbody').find_all('tr'):\n",
    "            for td in tr.find_all('td'):\n",
    "                tdClass = td.get('class')\n",
    "                tdText = td.get_text().strip()\n",
    "                if tdClass == repName_class:\n",
    "                    repName = td.find('a').get_text().strip()\n",
    "                elif tdClass == committee_class and ('Climate' in tdText or 'Energy' in tdText or 'Space' in tdText):\n",
    "                    committee = tdText\n",
    "                    reps[repName] = committee\n",
    "                    #print(repName,' || ', committee)\n",
    "                #print(repName)\n",
    "            #print(repName)\n",
    "            #print(committee)\n",
    "            #reps[repName] = [committee]\n",
    "#print(reps)"
   ]
  },
  {
   "cell_type": "code",
   "execution_count": 24,
   "metadata": {},
   "outputs": [
    {
     "name": "stdout",
     "output_type": "stream",
     "text": [
      "{'Armstrong, Kelly': 'Climate Crisis|Energy and Commerce|Ethics',\n",
      " 'Babin, Brian': 'Transportation and Infrastructure|Science, Space, and '\n",
      "                 'Technology',\n",
      " 'Baird, James': 'Agriculture|Science, Space, and Technology',\n",
      " 'Barragán, Nanette': 'Homeland Security|Energy and Commerce',\n",
      " 'Bera, Ami': 'Foreign Affairs|Science, Space, and Technology',\n",
      " 'Beyer, Don': 'Science, Space, and Technology|Ways and Means',\n",
      " 'Bice, Stephanie I.': 'Armed Services|Select Committee Economic Disparity and '\n",
      "                       'Fairness in Growth|Science, Space, and Technology',\n",
      " 'Bilirakis, Gus M.': 'Energy and Commerce',\n",
      " 'Blunt Rochester, Lisa': 'Energy and Commerce',\n",
      " 'Bonamici, Suzanne': 'Climate Crisis|Education and Labor|Science, Space, and '\n",
      "                      'Technology',\n",
      " 'Bowman, Jamaal': 'Education and Labor|Science, Space, and Technology',\n",
      " 'Brooks, Mo': 'Armed Services|Science, Space, and Technology',\n",
      " 'Brownley, Julia': 'Climate Crisis|Natural Resources|Transportation and '\n",
      "                    \"Infrastructure|Veterans' Affairs\",\n",
      " 'Bucshon, Larry': 'Energy and Commerce',\n",
      " 'Burgess, Michael': 'Budget|Energy and Commerce|Rules',\n",
      " 'Butterfield, G.K.': 'House Administration|Energy and Commerce|Joint '\n",
      "                      'Committee of Congress on the Library',\n",
      " 'Carey, Mike': 'Budget|Science, Space, and Technology',\n",
      " 'Carter, Buddy': 'Budget|Climate Crisis|Energy and Commerce',\n",
      " 'Casten, Sean': 'Financial Services|Climate Crisis|Science, Space, and '\n",
      "                 'Technology',\n",
      " 'Castor, Kathy': 'Climate Crisis|Energy and Commerce',\n",
      " 'Clarke, Yvette D.': 'Homeland Security|Energy and Commerce',\n",
      " 'Craig, Angie': 'Agriculture|Select Committee Economic Disparity and Fairness '\n",
      "                 'in Growth|Energy and Commerce|Small Business',\n",
      " 'Crenshaw, Dan': 'Climate Crisis|Energy and Commerce',\n",
      " 'Crist, Charlie': 'Appropriations|Science, Space, and Technology',\n",
      " 'Curtis, John R.': 'Energy and Commerce',\n",
      " 'Cárdenas, Tony': 'Energy and Commerce',\n",
      " 'DeGette, Diana': 'Energy and Commerce|Natural Resources',\n",
      " 'Dingell, Debbie': 'Energy and Commerce|Natural Resources',\n",
      " 'Doyle,  Michael': 'Energy and Commerce',\n",
      " 'Duncan, Jeff': 'Energy and Commerce',\n",
      " 'Dunn, Neal': 'Energy and Commerce',\n",
      " 'Ellzey, Jake': \"Science, Space, and Technology|Veterans' Affairs\",\n",
      " 'Escobar, Veronica': 'Armed Services|Climate Crisis|Judiciary|Ethics',\n",
      " 'Eshoo, Anna G.': 'Energy and Commerce',\n",
      " 'Feenstra, Randy': 'Agriculture|Budget|Science, Space, and Technology',\n",
      " 'Fletcher, Lizzie': 'Energy and Commerce|Science, Space, and Technology',\n",
      " 'Foster, Bill': 'Financial Services|Science, Space, and Technology|Select '\n",
      "                 'Subcommittee on the Coronavirus Crisis',\n",
      " 'Garcia, Mike': 'Appropriations|Science, Space, and Technology',\n",
      " 'Gimenez, Carlos A.': 'Homeland Security|Transportation and '\n",
      "                       'Infrastructure|Science, Space, and Technology',\n",
      " 'Gonzalez, Anthony': 'Financial Services|Climate Crisis|Science, Space, and '\n",
      "                      'Technology',\n",
      " 'Graves, Garret': 'Climate Crisis|Natural Resources|Transportation and '\n",
      "                   'Infrastructure',\n",
      " 'Griffith, Morgan': 'Energy and Commerce',\n",
      " 'Guthrie, S. Brett': 'Energy and Commerce',\n",
      " 'Hudson, Richard': 'Energy and Commerce',\n",
      " 'Huffman, Jared': 'Climate Crisis|Natural Resources|Transportation and '\n",
      "                   'Infrastructure',\n",
      " 'Johnson, Bill': 'Energy and Commerce',\n",
      " 'Johnson, Eddie Bernice': 'Transportation and Infrastructure|Science, Space, '\n",
      "                           'and Technology',\n",
      " 'Joyce, John': 'Energy and Commerce',\n",
      " 'Kelly, Robin': 'Oversight and Reform|Energy and Commerce',\n",
      " 'Kildee, Daniel': 'Budget|Science, Space, and Technology|Ways and Means',\n",
      " 'Kim, Young': 'Foreign Affairs|Small Business|Science, Space, and Technology',\n",
      " 'Kinzinger, Adam': 'Foreign Affairs|Energy and Commerce|Select Committee to '\n",
      "                    'Investigate the January 6th Attack',\n",
      " 'Kuster, Ann': 'Agriculture|Energy and Commerce',\n",
      " 'LaTurner, Jake': 'Oversight and Reform|Homeland Security|Science, Space, and '\n",
      "                   'Technology',\n",
      " 'Lamb, Conor': 'Transportation and Infrastructure|Science, Space, and '\n",
      "                \"Technology|Veterans' Affairs\",\n",
      " 'Latta, Robert E.': 'Energy and Commerce|Modernization of Congress',\n",
      " 'Lesko, Debbie': 'Energy and Commerce',\n",
      " 'Levin, Mike': \"Climate Crisis|Natural Resources|Veterans' Affairs\",\n",
      " 'Lofgren, Zoe': 'House Administration|Select Committee to Investigate the '\n",
      "                 'January 6th Attack|Joint Committee of Congress on the '\n",
      "                 'Library|Judiciary|Modernization of Congress|Science, Space, '\n",
      "                 'and Technology',\n",
      " 'Long, Billy': 'Energy and Commerce',\n",
      " 'Lucas, Frank': 'Financial Services|Science, Space, and Technology',\n",
      " 'Matsui, Doris O.': 'Energy and Commerce',\n",
      " 'McEachin, A. Donald': 'Climate Crisis|Energy and Commerce|Natural Resources',\n",
      " 'McKinley, David': 'Energy and Commerce',\n",
      " 'McNerney, Jerry': 'Energy and Commerce|Science, Space, and Technology',\n",
      " 'Meijer, Peter': 'Foreign Affairs|Homeland Security|Science, Space, and '\n",
      "                  'Technology',\n",
      " 'Miller, Carol': 'Climate Crisis|Ways and Means',\n",
      " 'Moore, Gwen': 'Select Committee Economic Disparity and Fairness in '\n",
      "                'Growth|Science, Space, and Technology|Ways and Means',\n",
      " 'Mullin, Markwayne': 'Energy and Commerce|Intelligence',\n",
      " 'Neguse, Joe': 'Climate Crisis|Natural Resources|Judiciary|Rules',\n",
      " 'Norcross, Donald': 'Armed Services|Education and Labor|Science, Space, and '\n",
      "                     'Technology',\n",
      " \"O'Halleran, Tom\": 'Agriculture|Energy and Commerce',\n",
      " 'Obernolte, Jay': 'Budget|Natural Resources|Science, Space, and Technology',\n",
      " 'Pallone Jr., Frank': 'Energy and Commerce',\n",
      " 'Palmer, Gary': 'Climate Crisis|Energy and Commerce',\n",
      " 'Pence, Greg': 'Energy and Commerce',\n",
      " 'Perlmutter, Ed': 'Financial Services|Modernization of '\n",
      "                   'Congress|Rules|Science, Space, and Technology',\n",
      " 'Peters, Scott': 'Budget|Energy and Commerce|Small Business',\n",
      " 'Posey, Bill': 'Financial Services|Science, Space, and Technology',\n",
      " 'Rice, Kathleen': 'Homeland Security|Energy and Commerce',\n",
      " 'Rodgers, Cathy McMorris': 'Energy and Commerce',\n",
      " 'Ross, Deborah K.': 'Judiciary|Rules|Science, Space, and Technology',\n",
      " 'Ruiz, Raul': \"Energy and Commerce|Veterans' Affairs\",\n",
      " 'Rush, Bobby L.': 'Agriculture|Energy and Commerce',\n",
      " 'Sarbanes, John P.': 'Oversight and Reform|Energy and Commerce',\n",
      " 'Scalise, Steve': 'Energy and Commerce|Select Subcommittee on the Coronavirus '\n",
      "                   'Crisis',\n",
      " 'Schakowsky, Jan': 'Budget|Energy and Commerce',\n",
      " 'Schrader, Kurt': 'Energy and Commerce',\n",
      " 'Schrier, Kim': 'Agriculture|Energy and Commerce',\n",
      " 'Sherman, Brad': 'Financial Services|Foreign Affairs|Science, Space, and '\n",
      "                  'Technology',\n",
      " 'Sherrill, Mikie': 'Armed Services|Education and Labor|Science, Space, and '\n",
      "                    'Technology',\n",
      " 'Soto, Darren': 'Energy and Commerce|Natural Resources',\n",
      " 'Stansbury, Melanie Ann': 'Natural Resources|Science, Space, and Technology',\n",
      " 'Stevens, Haley': 'Education and Labor|Science, Space, and Technology',\n",
      " 'Tonko, Paul D.': 'Energy and Commerce|Natural Resources|Science, Space, and '\n",
      "                   'Technology',\n",
      " 'Trahan, Lori': 'Energy and Commerce|Natural Resources',\n",
      " 'Upton, Fred': 'Energy and Commerce',\n",
      " 'Veasey, Marc': 'Armed Services|Energy and Commerce',\n",
      " 'Walberg, Tim': 'Education and Labor|Energy and Commerce',\n",
      " 'Waltz, Michael': 'Armed Services|Science, Space, and Technology',\n",
      " 'Weber, Randy': 'Transportation and Infrastructure|Science, Space, and '\n",
      "                 'Technology',\n",
      " 'Webster, Daniel': 'Natural Resources|Transportation and '\n",
      "                    'Infrastructure|Science, Space, and Technology',\n",
      " 'Welch, Peter': 'Oversight and Reform|Energy and Commerce|Intelligence',\n",
      " 'Wild, Susan': 'Education and Labor|Foreign Affairs|Ethics|Science, Space, '\n",
      "                'and Technology'}\n"
     ]
    }
   ],
   "source": [
    "pprint.pprint(reps)"
   ]
  }
 ],
 "metadata": {
  "kernelspec": {
   "display_name": "Python 3.9.12 ('webScraping')",
   "language": "python",
   "name": "python3"
  },
  "language_info": {
   "codemirror_mode": {
    "name": "ipython",
    "version": 3
   },
   "file_extension": ".py",
   "mimetype": "text/x-python",
   "name": "python",
   "nbconvert_exporter": "python",
   "pygments_lexer": "ipython3",
   "version": "3.9.12"
  },
  "orig_nbformat": 4,
  "vscode": {
   "interpreter": {
    "hash": "ba25e8f5f662bbe02efdd19fd26eb54758012d58a7d138a2bca8c71dfc24d5d1"
   }
  }
 },
 "nbformat": 4,
 "nbformat_minor": 2
}
